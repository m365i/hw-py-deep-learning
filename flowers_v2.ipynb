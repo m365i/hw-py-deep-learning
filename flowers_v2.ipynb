{
  "cells": [
    {
      "cell_type": "markdown",
      "metadata": {
        "id": "view-in-github",
        "colab_type": "text"
      },
      "source": [
        "<a href=\"https://colab.research.google.com/github/m365i/hw-py-deep-learning/blob/main/flowers_v2.ipynb\" target=\"_parent\"><img src=\"https://colab.research.google.com/assets/colab-badge.svg\" alt=\"Open In Colab\"/></a>"
      ]
    },
    {
      "cell_type": "markdown",
      "metadata": {
        "id": "t7S-N5Chf0nn"
      },
      "source": [
        "PyTorch is a deep learning framework with its Pythonic nature. Although there are many advanced applications, here I would like to demonstrate a solution for a relatively simple case. This is the multi-class classification problem based on Iris data set. It's the one of the best known practices.The model will be developed classifies the samples based on four features:<br>\n",
        "* sepal length (cm)\n",
        "* sepal width (cm)\n",
        "* petal length (cm)\n",
        "* petal width (cm)\n",
        "\n",
        "Target labels (species) are:\n",
        "* Iris-setosa\n",
        "* Iris-versicolour\n",
        "* Iris-virginica\n",
        "\n",
        "We will develop a model by using PyTorch having input layer (features), hidden layers and output layer (classes) as usual in neural networks.\n",
        "\n",
        "We will follow these steps:\n",
        "\n",
        "* Preparing and loading dataset<br>\n",
        "* Creating a model<br>\n",
        "* Training and validating the model<br>\n",
        "* Testing with unseen data\n"
      ]
    },
    {
      "cell_type": "markdown",
      "metadata": {
        "id": "LmZpgP_mf0nq"
      },
      "source": [
        "We start with importing necessary libraries."
      ]
    },
    {
      "cell_type": "code",
      "execution_count": null,
      "metadata": {
        "_cell_guid": "79c7e3d0-c299-4dcb-8224-4455121ee9b0",
        "_uuid": "d629ff2d2480ee46fbb7e2d37f6b5fab8052498a",
        "id": "4F9bEPeef0nr"
      },
      "outputs": [],
      "source": [
        "import torch\n",
        "import torch.nn as nn\n",
        "import torch.nn.functional as F\n",
        "from torch.utils.data import Dataset, DataLoader\n",
        "from sklearn.model_selection import train_test_split\n",
        "\n",
        "import numpy as np\n",
        "import pandas as pd\n",
        "import matplotlib.pyplot as plt\n"
      ]
    },
    {
      "cell_type": "markdown",
      "metadata": {
        "id": "zfCqTW2Of0ns"
      },
      "source": [
        "## Dataset\n",
        "We use dataset on Kaggle and you may use also this URL https://archive.ics.uci.edu/ml/machine-learning-databases/iris/iris.data for downloading .csv file."
      ]
    },
    {
      "cell_type": "code",
      "source": [
        "! wget -O iris.data.csv https://archive.ics.uci.edu/ml/machine-learning-databases/iris/iris.data"
      ],
      "metadata": {
        "colab": {
          "base_uri": "https://localhost:8080/"
        },
        "id": "1i9P-jj7gHHg",
        "outputId": "470208c4-9dd9-4035-da26-2bb9afc251bd"
      },
      "execution_count": null,
      "outputs": [
        {
          "output_type": "stream",
          "name": "stdout",
          "text": [
            "--2022-04-23 17:38:52--  https://archive.ics.uci.edu/ml/machine-learning-databases/iris/iris.data\n",
            "Resolving archive.ics.uci.edu (archive.ics.uci.edu)... 128.195.10.252\n",
            "Connecting to archive.ics.uci.edu (archive.ics.uci.edu)|128.195.10.252|:443... connected.\n",
            "HTTP request sent, awaiting response... 200 OK\n",
            "Length: 4551 (4.4K) [application/x-httpd-php]\n",
            "Saving to: ‘iris.data.csv’\n",
            "\n",
            "iris.data.csv       100%[===================>]   4.44K  --.-KB/s    in 0s      \n",
            "\n",
            "2022-04-23 17:38:52 (97.6 MB/s) - ‘iris.data.csv’ saved [4551/4551]\n",
            "\n"
          ]
        }
      ]
    },
    {
      "cell_type": "code",
      "execution_count": null,
      "metadata": {
        "id": "9ojzm_sWf0nt"
      },
      "outputs": [],
      "source": [
        "dataset = pd.read_csv(\"iris.data.csv\")"
      ]
    },
    {
      "cell_type": "code",
      "execution_count": null,
      "metadata": {
        "colab": {
          "base_uri": "https://localhost:8080/",
          "height": 206
        },
        "id": "ih8Q0Occf0nu",
        "outputId": "15f7898a-9347-4e08-c824-91f4e0773178"
      },
      "outputs": [
        {
          "output_type": "execute_result",
          "data": {
            "text/plain": [
              "   sepal length (cm)  sepal width (cm)  petal length (cm)  petal width (cm)  \\\n",
              "0                4.9               3.0                1.4               0.2   \n",
              "1                4.7               3.2                1.3               0.2   \n",
              "2                4.6               3.1                1.5               0.2   \n",
              "3                5.0               3.6                1.4               0.2   \n",
              "4                5.4               3.9                1.7               0.4   \n",
              "\n",
              "       species  \n",
              "0  Iris-setosa  \n",
              "1  Iris-setosa  \n",
              "2  Iris-setosa  \n",
              "3  Iris-setosa  \n",
              "4  Iris-setosa  "
            ],
            "text/html": [
              "\n",
              "  <div id=\"df-0f2331cf-4b09-4dba-860f-b93821f9132b\">\n",
              "    <div class=\"colab-df-container\">\n",
              "      <div>\n",
              "<style scoped>\n",
              "    .dataframe tbody tr th:only-of-type {\n",
              "        vertical-align: middle;\n",
              "    }\n",
              "\n",
              "    .dataframe tbody tr th {\n",
              "        vertical-align: top;\n",
              "    }\n",
              "\n",
              "    .dataframe thead th {\n",
              "        text-align: right;\n",
              "    }\n",
              "</style>\n",
              "<table border=\"1\" class=\"dataframe\">\n",
              "  <thead>\n",
              "    <tr style=\"text-align: right;\">\n",
              "      <th></th>\n",
              "      <th>sepal length (cm)</th>\n",
              "      <th>sepal width (cm)</th>\n",
              "      <th>petal length (cm)</th>\n",
              "      <th>petal width (cm)</th>\n",
              "      <th>species</th>\n",
              "    </tr>\n",
              "  </thead>\n",
              "  <tbody>\n",
              "    <tr>\n",
              "      <th>0</th>\n",
              "      <td>4.9</td>\n",
              "      <td>3.0</td>\n",
              "      <td>1.4</td>\n",
              "      <td>0.2</td>\n",
              "      <td>Iris-setosa</td>\n",
              "    </tr>\n",
              "    <tr>\n",
              "      <th>1</th>\n",
              "      <td>4.7</td>\n",
              "      <td>3.2</td>\n",
              "      <td>1.3</td>\n",
              "      <td>0.2</td>\n",
              "      <td>Iris-setosa</td>\n",
              "    </tr>\n",
              "    <tr>\n",
              "      <th>2</th>\n",
              "      <td>4.6</td>\n",
              "      <td>3.1</td>\n",
              "      <td>1.5</td>\n",
              "      <td>0.2</td>\n",
              "      <td>Iris-setosa</td>\n",
              "    </tr>\n",
              "    <tr>\n",
              "      <th>3</th>\n",
              "      <td>5.0</td>\n",
              "      <td>3.6</td>\n",
              "      <td>1.4</td>\n",
              "      <td>0.2</td>\n",
              "      <td>Iris-setosa</td>\n",
              "    </tr>\n",
              "    <tr>\n",
              "      <th>4</th>\n",
              "      <td>5.4</td>\n",
              "      <td>3.9</td>\n",
              "      <td>1.7</td>\n",
              "      <td>0.4</td>\n",
              "      <td>Iris-setosa</td>\n",
              "    </tr>\n",
              "  </tbody>\n",
              "</table>\n",
              "</div>\n",
              "      <button class=\"colab-df-convert\" onclick=\"convertToInteractive('df-0f2331cf-4b09-4dba-860f-b93821f9132b')\"\n",
              "              title=\"Convert this dataframe to an interactive table.\"\n",
              "              style=\"display:none;\">\n",
              "        \n",
              "  <svg xmlns=\"http://www.w3.org/2000/svg\" height=\"24px\"viewBox=\"0 0 24 24\"\n",
              "       width=\"24px\">\n",
              "    <path d=\"M0 0h24v24H0V0z\" fill=\"none\"/>\n",
              "    <path d=\"M18.56 5.44l.94 2.06.94-2.06 2.06-.94-2.06-.94-.94-2.06-.94 2.06-2.06.94zm-11 1L8.5 8.5l.94-2.06 2.06-.94-2.06-.94L8.5 2.5l-.94 2.06-2.06.94zm10 10l.94 2.06.94-2.06 2.06-.94-2.06-.94-.94-2.06-.94 2.06-2.06.94z\"/><path d=\"M17.41 7.96l-1.37-1.37c-.4-.4-.92-.59-1.43-.59-.52 0-1.04.2-1.43.59L10.3 9.45l-7.72 7.72c-.78.78-.78 2.05 0 2.83L4 21.41c.39.39.9.59 1.41.59.51 0 1.02-.2 1.41-.59l7.78-7.78 2.81-2.81c.8-.78.8-2.07 0-2.86zM5.41 20L4 18.59l7.72-7.72 1.47 1.35L5.41 20z\"/>\n",
              "  </svg>\n",
              "      </button>\n",
              "      \n",
              "  <style>\n",
              "    .colab-df-container {\n",
              "      display:flex;\n",
              "      flex-wrap:wrap;\n",
              "      gap: 12px;\n",
              "    }\n",
              "\n",
              "    .colab-df-convert {\n",
              "      background-color: #E8F0FE;\n",
              "      border: none;\n",
              "      border-radius: 50%;\n",
              "      cursor: pointer;\n",
              "      display: none;\n",
              "      fill: #1967D2;\n",
              "      height: 32px;\n",
              "      padding: 0 0 0 0;\n",
              "      width: 32px;\n",
              "    }\n",
              "\n",
              "    .colab-df-convert:hover {\n",
              "      background-color: #E2EBFA;\n",
              "      box-shadow: 0px 1px 2px rgba(60, 64, 67, 0.3), 0px 1px 3px 1px rgba(60, 64, 67, 0.15);\n",
              "      fill: #174EA6;\n",
              "    }\n",
              "\n",
              "    [theme=dark] .colab-df-convert {\n",
              "      background-color: #3B4455;\n",
              "      fill: #D2E3FC;\n",
              "    }\n",
              "\n",
              "    [theme=dark] .colab-df-convert:hover {\n",
              "      background-color: #434B5C;\n",
              "      box-shadow: 0px 1px 3px 1px rgba(0, 0, 0, 0.15);\n",
              "      filter: drop-shadow(0px 1px 2px rgba(0, 0, 0, 0.3));\n",
              "      fill: #FFFFFF;\n",
              "    }\n",
              "  </style>\n",
              "\n",
              "      <script>\n",
              "        const buttonEl =\n",
              "          document.querySelector('#df-0f2331cf-4b09-4dba-860f-b93821f9132b button.colab-df-convert');\n",
              "        buttonEl.style.display =\n",
              "          google.colab.kernel.accessAllowed ? 'block' : 'none';\n",
              "\n",
              "        async function convertToInteractive(key) {\n",
              "          const element = document.querySelector('#df-0f2331cf-4b09-4dba-860f-b93821f9132b');\n",
              "          const dataTable =\n",
              "            await google.colab.kernel.invokeFunction('convertToInteractive',\n",
              "                                                     [key], {});\n",
              "          if (!dataTable) return;\n",
              "\n",
              "          const docLinkHtml = 'Like what you see? Visit the ' +\n",
              "            '<a target=\"_blank\" href=https://colab.research.google.com/notebooks/data_table.ipynb>data table notebook</a>'\n",
              "            + ' to learn more about interactive tables.';\n",
              "          element.innerHTML = '';\n",
              "          dataTable['output_type'] = 'display_data';\n",
              "          await google.colab.output.renderOutput(dataTable, element);\n",
              "          const docLink = document.createElement('div');\n",
              "          docLink.innerHTML = docLinkHtml;\n",
              "          element.appendChild(docLink);\n",
              "        }\n",
              "      </script>\n",
              "    </div>\n",
              "  </div>\n",
              "  "
            ]
          },
          "metadata": {},
          "execution_count": 4
        }
      ],
      "source": [
        "dataset.columns = [\"sepal length (cm)\", \n",
        "                   \"sepal width (cm)\", \n",
        "                   \"petal length (cm)\", \n",
        "                   \"petal width (cm)\", \n",
        "                   \"species\"]\n",
        "\n",
        "dataset.head()"
      ]
    },
    {
      "cell_type": "markdown",
      "metadata": {
        "id": "UzJBeoPuf0nv"
      },
      "source": [
        "We need to transform species data to numeric values."
      ]
    },
    {
      "cell_type": "code",
      "execution_count": null,
      "metadata": {
        "colab": {
          "base_uri": "https://localhost:8080/",
          "height": 206
        },
        "id": "nCVBYOaxf0nw",
        "outputId": "208b4d71-8d03-43fb-f8e2-6391f1748389"
      },
      "outputs": [
        {
          "output_type": "execute_result",
          "data": {
            "text/plain": [
              "   sepal length (cm)  sepal width (cm)  petal length (cm)  petal width (cm)  \\\n",
              "0                4.9               3.0                1.4               0.2   \n",
              "1                4.7               3.2                1.3               0.2   \n",
              "2                4.6               3.1                1.5               0.2   \n",
              "3                5.0               3.6                1.4               0.2   \n",
              "4                5.4               3.9                1.7               0.4   \n",
              "\n",
              "   species  \n",
              "0        0  \n",
              "1        0  \n",
              "2        0  \n",
              "3        0  \n",
              "4        0  "
            ],
            "text/html": [
              "\n",
              "  <div id=\"df-88de00d8-5d2a-431d-9b34-39db57bb5f85\">\n",
              "    <div class=\"colab-df-container\">\n",
              "      <div>\n",
              "<style scoped>\n",
              "    .dataframe tbody tr th:only-of-type {\n",
              "        vertical-align: middle;\n",
              "    }\n",
              "\n",
              "    .dataframe tbody tr th {\n",
              "        vertical-align: top;\n",
              "    }\n",
              "\n",
              "    .dataframe thead th {\n",
              "        text-align: right;\n",
              "    }\n",
              "</style>\n",
              "<table border=\"1\" class=\"dataframe\">\n",
              "  <thead>\n",
              "    <tr style=\"text-align: right;\">\n",
              "      <th></th>\n",
              "      <th>sepal length (cm)</th>\n",
              "      <th>sepal width (cm)</th>\n",
              "      <th>petal length (cm)</th>\n",
              "      <th>petal width (cm)</th>\n",
              "      <th>species</th>\n",
              "    </tr>\n",
              "  </thead>\n",
              "  <tbody>\n",
              "    <tr>\n",
              "      <th>0</th>\n",
              "      <td>4.9</td>\n",
              "      <td>3.0</td>\n",
              "      <td>1.4</td>\n",
              "      <td>0.2</td>\n",
              "      <td>0</td>\n",
              "    </tr>\n",
              "    <tr>\n",
              "      <th>1</th>\n",
              "      <td>4.7</td>\n",
              "      <td>3.2</td>\n",
              "      <td>1.3</td>\n",
              "      <td>0.2</td>\n",
              "      <td>0</td>\n",
              "    </tr>\n",
              "    <tr>\n",
              "      <th>2</th>\n",
              "      <td>4.6</td>\n",
              "      <td>3.1</td>\n",
              "      <td>1.5</td>\n",
              "      <td>0.2</td>\n",
              "      <td>0</td>\n",
              "    </tr>\n",
              "    <tr>\n",
              "      <th>3</th>\n",
              "      <td>5.0</td>\n",
              "      <td>3.6</td>\n",
              "      <td>1.4</td>\n",
              "      <td>0.2</td>\n",
              "      <td>0</td>\n",
              "    </tr>\n",
              "    <tr>\n",
              "      <th>4</th>\n",
              "      <td>5.4</td>\n",
              "      <td>3.9</td>\n",
              "      <td>1.7</td>\n",
              "      <td>0.4</td>\n",
              "      <td>0</td>\n",
              "    </tr>\n",
              "  </tbody>\n",
              "</table>\n",
              "</div>\n",
              "      <button class=\"colab-df-convert\" onclick=\"convertToInteractive('df-88de00d8-5d2a-431d-9b34-39db57bb5f85')\"\n",
              "              title=\"Convert this dataframe to an interactive table.\"\n",
              "              style=\"display:none;\">\n",
              "        \n",
              "  <svg xmlns=\"http://www.w3.org/2000/svg\" height=\"24px\"viewBox=\"0 0 24 24\"\n",
              "       width=\"24px\">\n",
              "    <path d=\"M0 0h24v24H0V0z\" fill=\"none\"/>\n",
              "    <path d=\"M18.56 5.44l.94 2.06.94-2.06 2.06-.94-2.06-.94-.94-2.06-.94 2.06-2.06.94zm-11 1L8.5 8.5l.94-2.06 2.06-.94-2.06-.94L8.5 2.5l-.94 2.06-2.06.94zm10 10l.94 2.06.94-2.06 2.06-.94-2.06-.94-.94-2.06-.94 2.06-2.06.94z\"/><path d=\"M17.41 7.96l-1.37-1.37c-.4-.4-.92-.59-1.43-.59-.52 0-1.04.2-1.43.59L10.3 9.45l-7.72 7.72c-.78.78-.78 2.05 0 2.83L4 21.41c.39.39.9.59 1.41.59.51 0 1.02-.2 1.41-.59l7.78-7.78 2.81-2.81c.8-.78.8-2.07 0-2.86zM5.41 20L4 18.59l7.72-7.72 1.47 1.35L5.41 20z\"/>\n",
              "  </svg>\n",
              "      </button>\n",
              "      \n",
              "  <style>\n",
              "    .colab-df-container {\n",
              "      display:flex;\n",
              "      flex-wrap:wrap;\n",
              "      gap: 12px;\n",
              "    }\n",
              "\n",
              "    .colab-df-convert {\n",
              "      background-color: #E8F0FE;\n",
              "      border: none;\n",
              "      border-radius: 50%;\n",
              "      cursor: pointer;\n",
              "      display: none;\n",
              "      fill: #1967D2;\n",
              "      height: 32px;\n",
              "      padding: 0 0 0 0;\n",
              "      width: 32px;\n",
              "    }\n",
              "\n",
              "    .colab-df-convert:hover {\n",
              "      background-color: #E2EBFA;\n",
              "      box-shadow: 0px 1px 2px rgba(60, 64, 67, 0.3), 0px 1px 3px 1px rgba(60, 64, 67, 0.15);\n",
              "      fill: #174EA6;\n",
              "    }\n",
              "\n",
              "    [theme=dark] .colab-df-convert {\n",
              "      background-color: #3B4455;\n",
              "      fill: #D2E3FC;\n",
              "    }\n",
              "\n",
              "    [theme=dark] .colab-df-convert:hover {\n",
              "      background-color: #434B5C;\n",
              "      box-shadow: 0px 1px 3px 1px rgba(0, 0, 0, 0.15);\n",
              "      filter: drop-shadow(0px 1px 2px rgba(0, 0, 0, 0.3));\n",
              "      fill: #FFFFFF;\n",
              "    }\n",
              "  </style>\n",
              "\n",
              "      <script>\n",
              "        const buttonEl =\n",
              "          document.querySelector('#df-88de00d8-5d2a-431d-9b34-39db57bb5f85 button.colab-df-convert');\n",
              "        buttonEl.style.display =\n",
              "          google.colab.kernel.accessAllowed ? 'block' : 'none';\n",
              "\n",
              "        async function convertToInteractive(key) {\n",
              "          const element = document.querySelector('#df-88de00d8-5d2a-431d-9b34-39db57bb5f85');\n",
              "          const dataTable =\n",
              "            await google.colab.kernel.invokeFunction('convertToInteractive',\n",
              "                                                     [key], {});\n",
              "          if (!dataTable) return;\n",
              "\n",
              "          const docLinkHtml = 'Like what you see? Visit the ' +\n",
              "            '<a target=\"_blank\" href=https://colab.research.google.com/notebooks/data_table.ipynb>data table notebook</a>'\n",
              "            + ' to learn more about interactive tables.';\n",
              "          element.innerHTML = '';\n",
              "          dataTable['output_type'] = 'display_data';\n",
              "          await google.colab.output.renderOutput(dataTable, element);\n",
              "          const docLink = document.createElement('div');\n",
              "          docLink.innerHTML = docLinkHtml;\n",
              "          element.appendChild(docLink);\n",
              "        }\n",
              "      </script>\n",
              "    </div>\n",
              "  </div>\n",
              "  "
            ]
          },
          "metadata": {},
          "execution_count": 5
        }
      ],
      "source": [
        "mappings = {\n",
        "   \"Iris-setosa\": 0,\n",
        "   \"Iris-versicolor\": 1,\n",
        "   \"Iris-virginica\": 2\n",
        "}\n",
        "dataset[\"species\"] = dataset[\"species\"].apply(lambda x: mappings[x])\n",
        "\n",
        "dataset.head()"
      ]
    },
    {
      "cell_type": "markdown",
      "metadata": {
        "id": "t3XvCQjof0nx"
      },
      "source": [
        "It's always useful previewing the dataset which we are working on. It gives an idea about features and their patterns in entire dataset. For achieving this we can use visualization tools available with matplotlib library already imported."
      ]
    },
    {
      "cell_type": "code",
      "execution_count": null,
      "metadata": {
        "colab": {
          "base_uri": "https://localhost:8080/",
          "height": 597
        },
        "id": "-qhupuiPf0ny",
        "outputId": "02ad9568-7646-4994-827b-130ef794dbee"
      },
      "outputs": [
        {
          "output_type": "display_data",
          "data": {
            "text/plain": [
              "<Figure size 864x576 with 4 Axes>"
            ],
            "image/png": "[encoded data removed]"
          },
          "metadata": {
            "needs_background": "light"
          }
        }
      ],
      "source": [
        "fig, axes = plt.subplots(nrows=2, ncols=2, figsize=(12,8))\n",
        "fig.tight_layout()\n",
        "\n",
        "plots = [(0,1),(2,3),(0,2),(1,3)]\n",
        "colors = [\"r\", \"g\", \"b\"]\n",
        "labels = [\"Iris-setosa\",\"Iris-virginica\",\"Iris-versicolor\"]\n",
        "\n",
        "for i, ax in enumerate(axes.flat):\n",
        "    for j in range(3):\n",
        "        x = dataset.columns[plots[i][0]]\n",
        "        y = dataset.columns[plots[i][1]]\n",
        "        ax.scatter(dataset[dataset[\"species\"]==j][x], dataset[dataset[\"species\"]==j][y], color=colors[j])\n",
        "        ax.set(xlabel=x, ylabel=y)\n",
        "\n",
        "fig.legend(labels=labels, loc=3, bbox_to_anchor=(1.0,0.85))\n",
        "plt.show()"
      ]
    },
    {
      "cell_type": "markdown",
      "metadata": {
        "id": "jW3Yg07qf0ny"
      },
      "source": [
        "### Loading dataset"
      ]
    },
    {
      "cell_type": "code",
      "execution_count": null,
      "metadata": {
        "id": "Lbf0HtKYf0nz"
      },
      "outputs": [],
      "source": [
        "X = dataset.drop(\"species\",axis=1).values\n",
        "y = dataset[\"species\"].values"
      ]
    },
    {
      "cell_type": "markdown",
      "metadata": {
        "id": "AulvYl1bf0nz"
      },
      "source": [
        "We split our dataset into training and test sets by ratio 80/20."
      ]
    },
    {
      "cell_type": "code",
      "execution_count": null,
      "metadata": {
        "id": "NPyP-cH4f0nz"
      },
      "outputs": [],
      "source": [
        "X_train, X_test, y_train, y_test = train_test_split(X,y,test_size=0.20)"
      ]
    },
    {
      "cell_type": "code",
      "execution_count": null,
      "metadata": {
        "id": "DtAqCo-Cf0n0"
      },
      "outputs": [],
      "source": [
        "X_train = torch.FloatTensor(X_train)\n",
        "X_test = torch.FloatTensor(X_test)\n",
        "y_train = torch.LongTensor(y_train)\n",
        "y_test = torch.LongTensor(y_test)"
      ]
    },
    {
      "cell_type": "markdown",
      "metadata": {
        "id": "4FjWFiyYf0n0"
      },
      "source": [
        "### Creating Model\n",
        "\n",
        "* Fully Connected Layer 4 input features, 25 output features (arbitrary)\n",
        "* Fully Connected Layer 25 input features, 30 output features (arbitrary)\n",
        "* Output Layer 30 input features , 3 output features\n",
        "\n",
        "We will use ReLU (rectified linear unit) as activation function. In PyTorch there's a module torch.nn.ReLU gives us that we need."
      ]
    },
    {
      "cell_type": "code",
      "execution_count": null,
      "metadata": {
        "id": "7ob8r8jjf0n0"
      },
      "outputs": [],
      "source": [
        "class Model(nn.Module):\n",
        "    def __init__(self, input_features=4, hidden_layer1=25, hidden_layer2=30, output_features=3):\n",
        "        super().__init__()\n",
        "        self.fc1 = nn.Linear(input_features,hidden_layer1)                  \n",
        "        self.fc2 = nn.Linear(hidden_layer1, hidden_layer2)                  \n",
        "        self.out = nn.Linear(hidden_layer2, output_features)      \n",
        "        \n",
        "    def forward(self, x):\n",
        "        x = F.relu(self.fc1(x))\n",
        "        x = F.relu(self.fc2(x))\n",
        "        x = self.out(x)\n",
        "        return x"
      ]
    },
    {
      "cell_type": "code",
      "execution_count": null,
      "metadata": {
        "colab": {
          "base_uri": "https://localhost:8080/"
        },
        "id": "nf_CRKFnf0n1",
        "outputId": "a7aed2e7-c56a-4ae6-8005-d6bf46340536"
      },
      "outputs": [
        {
          "output_type": "execute_result",
          "data": {
            "text/plain": [
              "Model(\n",
              "  (fc1): Linear(in_features=4, out_features=25, bias=True)\n",
              "  (fc2): Linear(in_features=25, out_features=30, bias=True)\n",
              "  (out): Linear(in_features=30, out_features=3, bias=True)\n",
              ")"
            ]
          },
          "metadata": {},
          "execution_count": 11
        }
      ],
      "source": [
        "model = Model()\n",
        "model"
      ]
    },
    {
      "cell_type": "markdown",
      "metadata": {
        "id": "7NqqV_YCf0n1"
      },
      "source": [
        "Setting hyperparameters:<br>\n",
        "* We start with learning rate 0.01 then we can work on and see its affect on the training process. \n",
        "* Also we will use Cross Entropy and Adam optimizer."
      ]
    },
    {
      "cell_type": "code",
      "execution_count": null,
      "metadata": {
        "id": "338QpTDBf0n2"
      },
      "outputs": [],
      "source": [
        "criterion = nn.CrossEntropyLoss()\n",
        "optimizer = torch.optim.Adam(model.parameters(), lr=0.01)"
      ]
    },
    {
      "cell_type": "markdown",
      "metadata": {
        "id": "rFhURqM_f0n2"
      },
      "source": [
        "### Training\n",
        "\n",
        "We select epoch as 100."
      ]
    },
    {
      "cell_type": "code",
      "execution_count": null,
      "metadata": {
        "colab": {
          "base_uri": "https://localhost:8080/"
        },
        "id": "LwiGWBC6f0n2",
        "outputId": "69d13078-d0f3-45e8-fba2-df922af9f8bd"
      },
      "outputs": [
        {
          "output_type": "stream",
          "name": "stdout",
          "text": [
            "epoch:  0  loss: 1.11971343\n",
            "epoch:  1  loss: 1.06277478\n",
            "epoch:  2  loss: 1.02997148\n",
            "epoch:  3  loss: 0.99004048\n",
            "epoch:  4  loss: 0.95112622\n",
            "epoch:  5  loss: 0.91255516\n",
            "epoch:  6  loss: 0.86877531\n",
            "epoch:  7  loss: 0.81840950\n",
            "epoch:  8  loss: 0.76289994\n",
            "epoch:  9  loss: 0.70323920\n",
            "epoch: 10  loss: 0.64828259\n",
            "epoch: 11  loss: 0.59929389\n",
            "epoch: 12  loss: 0.55211639\n",
            "epoch: 13  loss: 0.50691533\n",
            "epoch: 14  loss: 0.46618757\n",
            "epoch: 15  loss: 0.43147177\n",
            "epoch: 16  loss: 0.40284485\n",
            "epoch: 17  loss: 0.37789553\n",
            "epoch: 18  loss: 0.35411248\n",
            "epoch: 19  loss: 0.33130509\n",
            "epoch: 20  loss: 0.30817682\n",
            "epoch: 21  loss: 0.28550860\n",
            "epoch: 22  loss: 0.26305032\n",
            "epoch: 23  loss: 0.24109186\n",
            "epoch: 24  loss: 0.22010362\n",
            "epoch: 25  loss: 0.19994467\n",
            "epoch: 26  loss: 0.18062837\n",
            "epoch: 27  loss: 0.16240932\n",
            "epoch: 28  loss: 0.14558429\n",
            "epoch: 29  loss: 0.13184038\n",
            "epoch: 30  loss: 0.12046314\n",
            "epoch: 31  loss: 0.11055938\n",
            "epoch: 32  loss: 0.10233706\n",
            "epoch: 33  loss: 0.09558080\n",
            "epoch: 34  loss: 0.08978487\n",
            "epoch: 35  loss: 0.08511955\n",
            "epoch: 36  loss: 0.08132939\n",
            "epoch: 37  loss: 0.07820473\n",
            "epoch: 38  loss: 0.07545786\n",
            "epoch: 39  loss: 0.07306270\n",
            "epoch: 40  loss: 0.07103325\n",
            "epoch: 41  loss: 0.06933448\n",
            "epoch: 42  loss: 0.06783265\n",
            "epoch: 43  loss: 0.06643739\n",
            "epoch: 44  loss: 0.06514096\n",
            "epoch: 45  loss: 0.06400232\n",
            "epoch: 46  loss: 0.06299300\n",
            "epoch: 47  loss: 0.06209043\n",
            "epoch: 48  loss: 0.06127894\n",
            "epoch: 49  loss: 0.06056540\n",
            "epoch: 50  loss: 0.05994919\n",
            "epoch: 51  loss: 0.05942568\n",
            "epoch: 52  loss: 0.05909475\n",
            "epoch: 53  loss: 0.05904780\n",
            "epoch: 54  loss: 0.05953283\n",
            "epoch: 55  loss: 0.05962463\n",
            "epoch: 56  loss: 0.05894859\n",
            "epoch: 57  loss: 0.05691019\n",
            "epoch: 58  loss: 0.05640830\n",
            "epoch: 59  loss: 0.05723535\n",
            "epoch: 60  loss: 0.05676189\n",
            "epoch: 61  loss: 0.05546982\n",
            "epoch: 62  loss: 0.05514491\n",
            "epoch: 63  loss: 0.05559071\n",
            "epoch: 64  loss: 0.05521183\n",
            "epoch: 65  loss: 0.05422184\n",
            "epoch: 66  loss: 0.05428554\n",
            "epoch: 67  loss: 0.05453840\n",
            "epoch: 68  loss: 0.05378933\n",
            "epoch: 69  loss: 0.05333795\n",
            "epoch: 70  loss: 0.05355965\n",
            "epoch: 71  loss: 0.05334990\n",
            "epoch: 72  loss: 0.05278804\n",
            "epoch: 73  loss: 0.05265830\n",
            "epoch: 74  loss: 0.05273056\n",
            "epoch: 75  loss: 0.05243108\n",
            "epoch: 76  loss: 0.05207510\n",
            "epoch: 77  loss: 0.05204729\n",
            "epoch: 78  loss: 0.05200654\n",
            "epoch: 79  loss: 0.05168307\n",
            "epoch: 80  loss: 0.05148518\n",
            "epoch: 81  loss: 0.05145422\n",
            "epoch: 82  loss: 0.05132775\n",
            "epoch: 83  loss: 0.05108834\n",
            "epoch: 84  loss: 0.05093088\n",
            "epoch: 85  loss: 0.05087528\n",
            "epoch: 86  loss: 0.05075519\n",
            "epoch: 87  loss: 0.05058489\n",
            "epoch: 88  loss: 0.05043224\n",
            "epoch: 89  loss: 0.05034652\n",
            "epoch: 90  loss: 0.05026204\n",
            "epoch: 91  loss: 0.05010922\n",
            "epoch: 92  loss: 0.04996881\n",
            "epoch: 93  loss: 0.04986971\n",
            "epoch: 94  loss: 0.04977478\n",
            "epoch: 95  loss: 0.04970418\n",
            "epoch: 96  loss: 0.04956534\n",
            "epoch: 97  loss: 0.04942175\n",
            "epoch: 98  loss: 0.04935360\n",
            "epoch: 99  loss: 0.04926464\n"
          ]
        }
      ],
      "source": [
        "epochs = 100\n",
        "losses = []\n",
        "\n",
        "for i in range(epochs):\n",
        "    y_pred = model.forward(X_train)\n",
        "    loss = criterion(y_pred, y_train)\n",
        "    losses.append(loss)\n",
        "    print(f'epoch: {i:2}  loss: {loss.item():10.8f}')\n",
        "    \n",
        "    optimizer.zero_grad()\n",
        "    loss.backward()\n",
        "    optimizer.step()"
      ]
    },
    {
      "cell_type": "code",
      "execution_count": null,
      "metadata": {
        "colab": {
          "base_uri": "https://localhost:8080/",
          "height": 279
        },
        "id": "nPhFhl1rf0n2",
        "outputId": "04638b9a-d779-401b-cdf9-50f073d926f2"
      },
      "outputs": [
        {
          "output_type": "display_data",
          "data": {
            "text/plain": [
              "<Figure size 432x288 with 1 Axes>"
            ],
            "image/png": "[encoded data removed]"
          },
          "metadata": {
            "needs_background": "light"
          }
        }
      ],
      "source": [
        "plt.plot(range(epochs), [ float(l) for l in losses])\n",
        "plt.ylabel('Loss')\n",
        "plt.xlabel('epoch');"
      ]
    },
    {
      "cell_type": "markdown",
      "metadata": {
        "id": "WWL74LjLf0n3"
      },
      "source": [
        "### Validating and testing the model"
      ]
    },
    {
      "cell_type": "code",
      "execution_count": null,
      "metadata": {
        "id": "eAeVp_W1f0n4"
      },
      "outputs": [],
      "source": [
        "preds = []\n",
        "with torch.no_grad():\n",
        "    for val in X_test:\n",
        "        y_hat = model.forward(val)\n",
        "        preds.append(y_hat.argmax().item())"
      ]
    },
    {
      "cell_type": "markdown",
      "metadata": {
        "id": "t01QVycmf0n4"
      },
      "source": [
        "preds array will acummulate predictions and it is convenient to make a Pandas DataFrame with the following 3 attributes:\n",
        "* Y: actual value\n",
        "* YHat   : predicted value\n",
        "* Correct: 1 if Y and YHat are equal, 0 otherwise. "
      ]
    },
    {
      "cell_type": "code",
      "execution_count": null,
      "metadata": {
        "colab": {
          "base_uri": "https://localhost:8080/",
          "height": 989
        },
        "id": "mKClLRpCf0n4",
        "outputId": "cfb2dce9-5eb7-42bf-8b60-2dc3e1bb5a78"
      },
      "outputs": [
        {
          "output_type": "execute_result",
          "data": {
            "text/plain": [
              "    Y  YHat  Correct\n",
              "0   0     0        1\n",
              "1   1     1        1\n",
              "2   0     0        1\n",
              "3   1     1        1\n",
              "4   2     2        1\n",
              "5   0     0        1\n",
              "6   1     1        1\n",
              "7   2     2        1\n",
              "8   2     2        1\n",
              "9   0     0        1\n",
              "10  1     2        0\n",
              "11  2     2        1\n",
              "12  2     2        1\n",
              "13  2     2        1\n",
              "14  2     2        1\n",
              "15  1     1        1\n",
              "16  0     0        1\n",
              "17  2     2        1\n",
              "18  0     0        1\n",
              "19  0     0        1\n",
              "20  0     0        1\n",
              "21  2     2        1\n",
              "22  2     2        1\n",
              "23  0     0        1\n",
              "24  0     0        1\n",
              "25  1     1        1\n",
              "26  1     1        1\n",
              "27  2     1        0\n",
              "28  2     2        1\n",
              "29  2     2        1"
            ],
            "text/html": [
              "\n",
              "  <div id=\"df-a7e853ee-48b4-49e9-894a-126c7bc4c2e8\">\n",
              "    <div class=\"colab-df-container\">\n",
              "      <div>\n",
              "<style scoped>\n",
              "    .dataframe tbody tr th:only-of-type {\n",
              "        vertical-align: middle;\n",
              "    }\n",
              "\n",
              "    .dataframe tbody tr th {\n",
              "        vertical-align: top;\n",
              "    }\n",
              "\n",
              "    .dataframe thead th {\n",
              "        text-align: right;\n",
              "    }\n",
              "</style>\n",
              "<table border=\"1\" class=\"dataframe\">\n",
              "  <thead>\n",
              "    <tr style=\"text-align: right;\">\n",
              "      <th></th>\n",
              "      <th>Y</th>\n",
              "      <th>YHat</th>\n",
              "      <th>Correct</th>\n",
              "    </tr>\n",
              "  </thead>\n",
              "  <tbody>\n",
              "    <tr>\n",
              "      <th>0</th>\n",
              "      <td>0</td>\n",
              "      <td>0</td>\n",
              "      <td>1</td>\n",
              "    </tr>\n",
              "    <tr>\n",
              "      <th>1</th>\n",
              "      <td>1</td>\n",
              "      <td>1</td>\n",
              "      <td>1</td>\n",
              "    </tr>\n",
              "    <tr>\n",
              "      <th>2</th>\n",
              "      <td>0</td>\n",
              "      <td>0</td>\n",
              "      <td>1</td>\n",
              "    </tr>\n",
              "    <tr>\n",
              "      <th>3</th>\n",
              "      <td>1</td>\n",
              "      <td>1</td>\n",
              "      <td>1</td>\n",
              "    </tr>\n",
              "    <tr>\n",
              "      <th>4</th>\n",
              "      <td>2</td>\n",
              "      <td>2</td>\n",
              "      <td>1</td>\n",
              "    </tr>\n",
              "    <tr>\n",
              "      <th>5</th>\n",
              "      <td>0</td>\n",
              "      <td>0</td>\n",
              "      <td>1</td>\n",
              "    </tr>\n",
              "    <tr>\n",
              "      <th>6</th>\n",
              "      <td>1</td>\n",
              "      <td>1</td>\n",
              "      <td>1</td>\n",
              "    </tr>\n",
              "    <tr>\n",
              "      <th>7</th>\n",
              "      <td>2</td>\n",
              "      <td>2</td>\n",
              "      <td>1</td>\n",
              "    </tr>\n",
              "    <tr>\n",
              "      <th>8</th>\n",
              "      <td>2</td>\n",
              "      <td>2</td>\n",
              "      <td>1</td>\n",
              "    </tr>\n",
              "    <tr>\n",
              "      <th>9</th>\n",
              "      <td>0</td>\n",
              "      <td>0</td>\n",
              "      <td>1</td>\n",
              "    </tr>\n",
              "    <tr>\n",
              "      <th>10</th>\n",
              "      <td>1</td>\n",
              "      <td>2</td>\n",
              "      <td>0</td>\n",
              "    </tr>\n",
              "    <tr>\n",
              "      <th>11</th>\n",
              "      <td>2</td>\n",
              "      <td>2</td>\n",
              "      <td>1</td>\n",
              "    </tr>\n",
              "    <tr>\n",
              "      <th>12</th>\n",
              "      <td>2</td>\n",
              "      <td>2</td>\n",
              "      <td>1</td>\n",
              "    </tr>\n",
              "    <tr>\n",
              "      <th>13</th>\n",
              "      <td>2</td>\n",
              "      <td>2</td>\n",
              "      <td>1</td>\n",
              "    </tr>\n",
              "    <tr>\n",
              "      <th>14</th>\n",
              "      <td>2</td>\n",
              "      <td>2</td>\n",
              "      <td>1</td>\n",
              "    </tr>\n",
              "    <tr>\n",
              "      <th>15</th>\n",
              "      <td>1</td>\n",
              "      <td>1</td>\n",
              "      <td>1</td>\n",
              "    </tr>\n",
              "    <tr>\n",
              "      <th>16</th>\n",
              "      <td>0</td>\n",
              "      <td>0</td>\n",
              "      <td>1</td>\n",
              "    </tr>\n",
              "    <tr>\n",
              "      <th>17</th>\n",
              "      <td>2</td>\n",
              "      <td>2</td>\n",
              "      <td>1</td>\n",
              "    </tr>\n",
              "    <tr>\n",
              "      <th>18</th>\n",
              "      <td>0</td>\n",
              "      <td>0</td>\n",
              "      <td>1</td>\n",
              "    </tr>\n",
              "    <tr>\n",
              "      <th>19</th>\n",
              "      <td>0</td>\n",
              "      <td>0</td>\n",
              "      <td>1</td>\n",
              "    </tr>\n",
              "    <tr>\n",
              "      <th>20</th>\n",
              "      <td>0</td>\n",
              "      <td>0</td>\n",
              "      <td>1</td>\n",
              "    </tr>\n",
              "    <tr>\n",
              "      <th>21</th>\n",
              "      <td>2</td>\n",
              "      <td>2</td>\n",
              "      <td>1</td>\n",
              "    </tr>\n",
              "    <tr>\n",
              "      <th>22</th>\n",
              "      <td>2</td>\n",
              "      <td>2</td>\n",
              "      <td>1</td>\n",
              "    </tr>\n",
              "    <tr>\n",
              "      <th>23</th>\n",
              "      <td>0</td>\n",
              "      <td>0</td>\n",
              "      <td>1</td>\n",
              "    </tr>\n",
              "    <tr>\n",
              "      <th>24</th>\n",
              "      <td>0</td>\n",
              "      <td>0</td>\n",
              "      <td>1</td>\n",
              "    </tr>\n",
              "    <tr>\n",
              "      <th>25</th>\n",
              "      <td>1</td>\n",
              "      <td>1</td>\n",
              "      <td>1</td>\n",
              "    </tr>\n",
              "    <tr>\n",
              "      <th>26</th>\n",
              "      <td>1</td>\n",
              "      <td>1</td>\n",
              "      <td>1</td>\n",
              "    </tr>\n",
              "    <tr>\n",
              "      <th>27</th>\n",
              "      <td>2</td>\n",
              "      <td>1</td>\n",
              "      <td>0</td>\n",
              "    </tr>\n",
              "    <tr>\n",
              "      <th>28</th>\n",
              "      <td>2</td>\n",
              "      <td>2</td>\n",
              "      <td>1</td>\n",
              "    </tr>\n",
              "    <tr>\n",
              "      <th>29</th>\n",
              "      <td>2</td>\n",
              "      <td>2</td>\n",
              "      <td>1</td>\n",
              "    </tr>\n",
              "  </tbody>\n",
              "</table>\n",
              "</div>\n",
              "      <button class=\"colab-df-convert\" onclick=\"convertToInteractive('df-a7e853ee-48b4-49e9-894a-126c7bc4c2e8')\"\n",
              "              title=\"Convert this dataframe to an interactive table.\"\n",
              "              style=\"display:none;\">\n",
              "        \n",
              "  <svg xmlns=\"http://www.w3.org/2000/svg\" height=\"24px\"viewBox=\"0 0 24 24\"\n",
              "       width=\"24px\">\n",
              "    <path d=\"M0 0h24v24H0V0z\" fill=\"none\"/>\n",
              "    <path d=\"M18.56 5.44l.94 2.06.94-2.06 2.06-.94-2.06-.94-.94-2.06-.94 2.06-2.06.94zm-11 1L8.5 8.5l.94-2.06 2.06-.94-2.06-.94L8.5 2.5l-.94 2.06-2.06.94zm10 10l.94 2.06.94-2.06 2.06-.94-2.06-.94-.94-2.06-.94 2.06-2.06.94z\"/><path d=\"M17.41 7.96l-1.37-1.37c-.4-.4-.92-.59-1.43-.59-.52 0-1.04.2-1.43.59L10.3 9.45l-7.72 7.72c-.78.78-.78 2.05 0 2.83L4 21.41c.39.39.9.59 1.41.59.51 0 1.02-.2 1.41-.59l7.78-7.78 2.81-2.81c.8-.78.8-2.07 0-2.86zM5.41 20L4 18.59l7.72-7.72 1.47 1.35L5.41 20z\"/>\n",
              "  </svg>\n",
              "      </button>\n",
              "      \n",
              "  <style>\n",
              "    .colab-df-container {\n",
              "      display:flex;\n",
              "      flex-wrap:wrap;\n",
              "      gap: 12px;\n",
              "    }\n",
              "\n",
              "    .colab-df-convert {\n",
              "      background-color: #E8F0FE;\n",
              "      border: none;\n",
              "      border-radius: 50%;\n",
              "      cursor: pointer;\n",
              "      display: none;\n",
              "      fill: #1967D2;\n",
              "      height: 32px;\n",
              "      padding: 0 0 0 0;\n",
              "      width: 32px;\n",
              "    }\n",
              "\n",
              "    .colab-df-convert:hover {\n",
              "      background-color: #E2EBFA;\n",
              "      box-shadow: 0px 1px 2px rgba(60, 64, 67, 0.3), 0px 1px 3px 1px rgba(60, 64, 67, 0.15);\n",
              "      fill: #174EA6;\n",
              "    }\n",
              "\n",
              "    [theme=dark] .colab-df-convert {\n",
              "      background-color: #3B4455;\n",
              "      fill: #D2E3FC;\n",
              "    }\n",
              "\n",
              "    [theme=dark] .colab-df-convert:hover {\n",
              "      background-color: #434B5C;\n",
              "      box-shadow: 0px 1px 3px 1px rgba(0, 0, 0, 0.15);\n",
              "      filter: drop-shadow(0px 1px 2px rgba(0, 0, 0, 0.3));\n",
              "      fill: #FFFFFF;\n",
              "    }\n",
              "  </style>\n",
              "\n",
              "      <script>\n",
              "        const buttonEl =\n",
              "          document.querySelector('#df-a7e853ee-48b4-49e9-894a-126c7bc4c2e8 button.colab-df-convert');\n",
              "        buttonEl.style.display =\n",
              "          google.colab.kernel.accessAllowed ? 'block' : 'none';\n",
              "\n",
              "        async function convertToInteractive(key) {\n",
              "          const element = document.querySelector('#df-a7e853ee-48b4-49e9-894a-126c7bc4c2e8');\n",
              "          const dataTable =\n",
              "            await google.colab.kernel.invokeFunction('convertToInteractive',\n",
              "                                                     [key], {});\n",
              "          if (!dataTable) return;\n",
              "\n",
              "          const docLinkHtml = 'Like what you see? Visit the ' +\n",
              "            '<a target=\"_blank\" href=https://colab.research.google.com/notebooks/data_table.ipynb>data table notebook</a>'\n",
              "            + ' to learn more about interactive tables.';\n",
              "          element.innerHTML = '';\n",
              "          dataTable['output_type'] = 'display_data';\n",
              "          await google.colab.output.renderOutput(dataTable, element);\n",
              "          const docLink = document.createElement('div');\n",
              "          docLink.innerHTML = docLinkHtml;\n",
              "          element.appendChild(docLink);\n",
              "        }\n",
              "      </script>\n",
              "    </div>\n",
              "  </div>\n",
              "  "
            ]
          },
          "metadata": {},
          "execution_count": 27
        }
      ],
      "source": [
        "df = pd.DataFrame({'Y': y_test, 'YHat': preds})\n",
        "df['Correct'] = [1 if corr == pred else 0 for corr, pred in zip(df['Y'], df['YHat'])]\n",
        "df"
      ]
    },
    {
      "cell_type": "code",
      "execution_count": null,
      "metadata": {
        "colab": {
          "base_uri": "https://localhost:8080/"
        },
        "id": "DuXF_Y0_f0n4",
        "outputId": "c9c2040a-28a3-4dbe-e70f-b3304330dd54"
      },
      "outputs": [
        {
          "output_type": "execute_result",
          "data": {
            "text/plain": [
              "0.9333333333333333"
            ]
          },
          "metadata": {},
          "execution_count": 28
        }
      ],
      "source": [
        "df['Correct'].sum() / len(df)"
      ]
    },
    {
      "cell_type": "markdown",
      "metadata": {
        "id": "6iX_uQCRf0n5"
      },
      "source": [
        " We can see that our model made just 1 wrong prediction (row index 27). As a result has 96.6 accuracy. "
      ]
    },
    {
      "cell_type": "markdown",
      "metadata": {
        "id": "ur1U2vKif0n5"
      },
      "source": [
        "### Applying the model to classify new, unseen data"
      ]
    },
    {
      "cell_type": "code",
      "execution_count": null,
      "metadata": {
        "id": "bkuqmd7yf0n5"
      },
      "outputs": [],
      "source": [
        "unknown_iris = torch.tensor([4.0,3.3,1.7,0.5])"
      ]
    },
    {
      "cell_type": "markdown",
      "metadata": {
        "id": "43KIpzEqf0n5"
      },
      "source": [
        "We may check this new iris in yellow to see where it falls in relation to the others:"
      ]
    },
    {
      "cell_type": "code",
      "execution_count": null,
      "metadata": {
        "colab": {
          "base_uri": "https://localhost:8080/",
          "height": 530
        },
        "id": "EBl3--uHf0n5",
        "outputId": "c27aa5c5-e4c9-42b9-d018-65a93cab598c"
      },
      "outputs": [
        {
          "output_type": "display_data",
          "data": {
            "text/plain": [
              "<Figure size 720x504 with 4 Axes>"
            ],
            "image/png": "[encoded data removed]"
          },
          "metadata": {
            "needs_background": "light"
          }
        }
      ],
      "source": [
        "fig, axes = plt.subplots(nrows=2, ncols=2, figsize=(10,7))\n",
        "fig.tight_layout()\n",
        "\n",
        "plots = [(0,1),(2,3),(0,2),(1,3)]\n",
        "colors = ['r', 'g', 'b']\n",
        "labels = ['Iris-setosa','Iris-virginica','Iris-versicolor','Unknown-iris']\n",
        "\n",
        "for i, ax in enumerate(axes.flat):\n",
        "    for j in range(3):\n",
        "        x = dataset.columns[plots[i][0]]\n",
        "        y = dataset.columns[plots[i][1]]\n",
        "        ax.scatter(dataset[dataset[\"species\"]==j][x], dataset[dataset[\"species\"]==j][y], color=colors[j])\n",
        "        ax.set(xlabel=x, ylabel=y)\n",
        "        \n",
        "    # Add a plot for our mystery iris:\n",
        "    ax.scatter(unknown_iris[plots[i][0]],unknown_iris[plots[i][1]], color='y')\n",
        "    \n",
        "fig.legend(labels=labels, loc=3, bbox_to_anchor=(1.0,0.85))\n",
        "plt.show()"
      ]
    },
    {
      "cell_type": "markdown",
      "metadata": {
        "id": "hnswaMGEf0n6"
      },
      "source": [
        "We see that this unknown-iris (yellow point) falls into Iris-setosa group. We can verify this by using our model: "
      ]
    },
    {
      "cell_type": "code",
      "execution_count": null,
      "metadata": {
        "colab": {
          "base_uri": "https://localhost:8080/"
        },
        "id": "qWiVr1xMf0n6",
        "outputId": "aec45182-b274-497e-e017-ce0fe0c24048"
      },
      "outputs": [
        {
          "output_type": "stream",
          "name": "stdout",
          "text": [
            "tensor([ 13.7940,   7.9975, -21.0971])\n",
            "\n",
            "Iris-setosa\n"
          ]
        }
      ],
      "source": [
        "with torch.no_grad():\n",
        "    print(model(unknown_iris))\n",
        "    print()\n",
        "    print(labels[model(unknown_iris).argmax()])"
      ]
    },
    {
      "cell_type": "markdown",
      "metadata": {
        "id": "CAAJyV-df0n6"
      },
      "source": [
        "### References\n",
        "* https://pytorch.org/docs/stable/index.html\n",
        "* https://www.udemy.com/course/pytorch-for-deep-learning-with-python-bootcamp/\n",
        "* https://towardsdatascience.com/your-first-neural-network-in-pytorch-725631ae0fc\n"
      ]
    },
    {
      "cell_type": "markdown",
      "source": [
        "## Conclusion and suggestions"
      ],
      "metadata": {
        "id": "OnZMEzjTgv1H"
      }
    },
    {
      "cell_type": "markdown",
      "source": [
        "A type of flower can be predicted according to its properties, a linear model of a neural network can do that.  \n",
        "To make the model more accurate it is possible to add additional parameters to the classification and use a larger sample size."
      ],
      "metadata": {
        "id": "vsIrRnAug0y3"
      }
    }
  ],
  "metadata": {
    "kernelspec": {
      "display_name": "Python 3",
      "language": "python",
      "name": "python3"
    },
    "language_info": {
      "codemirror_mode": {
        "name": "ipython",
        "version": 3
      },
      "file_extension": ".py",
      "mimetype": "text/x-python",
      "name": "python",
      "nbconvert_exporter": "python",
      "pygments_lexer": "ipython3",
      "version": "3.7.6"
    },
    "colab": {
      "name": "flowers_v2.ipynb",
      "provenance": [],
      "collapsed_sections": [],
      "include_colab_link": true
    }
  },
  "nbformat": 4,
  "nbformat_minor": 0
}